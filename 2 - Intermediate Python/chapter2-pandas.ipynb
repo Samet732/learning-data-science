{
 "cells": [
  {
   "cell_type": "markdown",
   "metadata": {},
   "source": [
    "# Dictionaries & Pandas"
   ]
  },
  {
   "cell_type": "markdown",
   "metadata": {},
   "source": [
    "## Dictionaries"
   ]
  },
  {
   "cell_type": "code",
   "execution_count": 1,
   "metadata": {},
   "outputs": [
    {
     "data": {
      "text/plain": [
       "1"
      ]
     },
     "execution_count": 1,
     "metadata": {},
     "output_type": "execute_result"
    }
   ],
   "source": [
    "countries = [\"usa\", \"china\", \"russia\"]\n",
    "cou_ind = countries.index(\"china\")\n",
    "cou_ind"
   ]
  },
  {
   "cell_type": "code",
   "execution_count": 2,
   "metadata": {},
   "outputs": [
    {
     "name": "stdout",
     "output_type": "stream",
     "text": [
      "{'country': ['usa', 'china', 'russia'], 'capital': ['Washington', 'Pekin', 'Moskow']}\n",
      "dict_keys(['country', 'capital'])\n"
     ]
    }
   ],
   "source": [
    "capitals = [\"Washington\", \"Pekin\", \"Moskow\"]\n",
    "d = {\n",
    "    \"country\": countries,\n",
    "    \"capital\": capitals\n",
    "}\n",
    "print(d)\n",
    "print(d.keys())"
   ]
  },
  {
   "cell_type": "markdown",
   "metadata": {},
   "source": [
    "### Loop Dictionary"
   ]
  },
  {
   "cell_type": "code",
   "execution_count": 3,
   "metadata": {},
   "outputs": [
    {
     "name": "stdout",
     "output_type": "stream",
     "text": [
      "country : ['usa', 'china', 'russia']\n",
      "capital : ['Washington', 'Pekin', 'Moskow']\n"
     ]
    }
   ],
   "source": [
    "for key, value in d.items():\n",
    "    print(f\"{key} : {value}\")"
   ]
  },
  {
   "cell_type": "markdown",
   "metadata": {},
   "source": [
    "## Pandas"
   ]
  },
  {
   "cell_type": "markdown",
   "metadata": {},
   "source": [
    "### Importing"
   ]
  },
  {
   "cell_type": "code",
   "execution_count": 4,
   "metadata": {},
   "outputs": [],
   "source": [
    "import pandas as pd"
   ]
  },
  {
   "cell_type": "markdown",
   "metadata": {},
   "source": [
    "### Prepearing Data"
   ]
  },
  {
   "cell_type": "code",
   "execution_count": 5,
   "metadata": {},
   "outputs": [
    {
     "data": {
      "text/plain": [
       "{'IDs': ['0001', '0002', '0003', '0004', '0005'],\n",
       " 'Devices': ['Macbook', 'Iphone', 'Mac Mini', 'TV', 'Ipad'],\n",
       " 'Charge': [86, 100, None, None, 32]}"
      ]
     },
     "execution_count": 5,
     "metadata": {},
     "output_type": "execute_result"
    }
   ],
   "source": [
    "my_devices = {\n",
    "    \"IDs\": [\"0001\", \"0002\", \"0003\", \"0004\", \"0005\"],\n",
    "    \"Devices\": [\"Macbook\", \"Iphone\", \"Mac Mini\", \"TV\", \"Ipad\"],\n",
    "    \"Charge\": [86, 100, None, None, 32]\n",
    "}\n",
    "my_devices"
   ]
  },
  {
   "cell_type": "markdown",
   "metadata": {},
   "source": [
    "### Creating DataFrame"
   ]
  },
  {
   "cell_type": "code",
   "execution_count": 6,
   "metadata": {},
   "outputs": [
    {
     "data": {
      "text/html": [
       "<div>\n",
       "<style scoped>\n",
       "    .dataframe tbody tr th:only-of-type {\n",
       "        vertical-align: middle;\n",
       "    }\n",
       "\n",
       "    .dataframe tbody tr th {\n",
       "        vertical-align: top;\n",
       "    }\n",
       "\n",
       "    .dataframe thead th {\n",
       "        text-align: right;\n",
       "    }\n",
       "</style>\n",
       "<table border=\"1\" class=\"dataframe\">\n",
       "  <thead>\n",
       "    <tr style=\"text-align: right;\">\n",
       "      <th></th>\n",
       "      <th>IDs</th>\n",
       "      <th>Devices</th>\n",
       "      <th>Charge</th>\n",
       "    </tr>\n",
       "  </thead>\n",
       "  <tbody>\n",
       "    <tr>\n",
       "      <th>0</th>\n",
       "      <td>0001</td>\n",
       "      <td>Macbook</td>\n",
       "      <td>86.0</td>\n",
       "    </tr>\n",
       "    <tr>\n",
       "      <th>1</th>\n",
       "      <td>0002</td>\n",
       "      <td>Iphone</td>\n",
       "      <td>100.0</td>\n",
       "    </tr>\n",
       "    <tr>\n",
       "      <th>2</th>\n",
       "      <td>0003</td>\n",
       "      <td>Mac Mini</td>\n",
       "      <td>NaN</td>\n",
       "    </tr>\n",
       "    <tr>\n",
       "      <th>3</th>\n",
       "      <td>0004</td>\n",
       "      <td>TV</td>\n",
       "      <td>NaN</td>\n",
       "    </tr>\n",
       "    <tr>\n",
       "      <th>4</th>\n",
       "      <td>0005</td>\n",
       "      <td>Ipad</td>\n",
       "      <td>32.0</td>\n",
       "    </tr>\n",
       "  </tbody>\n",
       "</table>\n",
       "</div>"
      ],
      "text/plain": [
       "    IDs   Devices  Charge\n",
       "0  0001   Macbook    86.0\n",
       "1  0002    Iphone   100.0\n",
       "2  0003  Mac Mini     NaN\n",
       "3  0004        TV     NaN\n",
       "4  0005      Ipad    32.0"
      ]
     },
     "execution_count": 6,
     "metadata": {},
     "output_type": "execute_result"
    }
   ],
   "source": [
    "my_devices_pd = pd.DataFrame(my_devices)\n",
    "my_devices_pd"
   ]
  },
  {
   "cell_type": "markdown",
   "metadata": {},
   "source": [
    "### Setting Row Labels"
   ]
  },
  {
   "cell_type": "code",
   "execution_count": 7,
   "metadata": {},
   "outputs": [
    {
     "data": {
      "text/html": [
       "<div>\n",
       "<style scoped>\n",
       "    .dataframe tbody tr th:only-of-type {\n",
       "        vertical-align: middle;\n",
       "    }\n",
       "\n",
       "    .dataframe tbody tr th {\n",
       "        vertical-align: top;\n",
       "    }\n",
       "\n",
       "    .dataframe thead th {\n",
       "        text-align: right;\n",
       "    }\n",
       "</style>\n",
       "<table border=\"1\" class=\"dataframe\">\n",
       "  <thead>\n",
       "    <tr style=\"text-align: right;\">\n",
       "      <th></th>\n",
       "      <th>IDs</th>\n",
       "      <th>Devices</th>\n",
       "      <th>Charge</th>\n",
       "    </tr>\n",
       "  </thead>\n",
       "  <tbody>\n",
       "    <tr>\n",
       "      <th>PC</th>\n",
       "      <td>0001</td>\n",
       "      <td>Macbook</td>\n",
       "      <td>86.0</td>\n",
       "    </tr>\n",
       "    <tr>\n",
       "      <th>TP</th>\n",
       "      <td>0002</td>\n",
       "      <td>Iphone</td>\n",
       "      <td>100.0</td>\n",
       "    </tr>\n",
       "    <tr>\n",
       "      <th>PC</th>\n",
       "      <td>0003</td>\n",
       "      <td>Mac Mini</td>\n",
       "      <td>NaN</td>\n",
       "    </tr>\n",
       "    <tr>\n",
       "      <th>TV</th>\n",
       "      <td>0004</td>\n",
       "      <td>TV</td>\n",
       "      <td>NaN</td>\n",
       "    </tr>\n",
       "    <tr>\n",
       "      <th>TA</th>\n",
       "      <td>0005</td>\n",
       "      <td>Ipad</td>\n",
       "      <td>32.0</td>\n",
       "    </tr>\n",
       "  </tbody>\n",
       "</table>\n",
       "</div>"
      ],
      "text/plain": [
       "     IDs   Devices  Charge\n",
       "PC  0001   Macbook    86.0\n",
       "TP  0002    Iphone   100.0\n",
       "PC  0003  Mac Mini     NaN\n",
       "TV  0004        TV     NaN\n",
       "TA  0005      Ipad    32.0"
      ]
     },
     "execution_count": 7,
     "metadata": {},
     "output_type": "execute_result"
    }
   ],
   "source": [
    "labels = [\"PC\", \"TP\", \"PC\", \"TV\", \"TA\"]\n",
    "my_devices_pd.index = labels\n",
    "my_devices_pd"
   ]
  },
  {
   "cell_type": "markdown",
   "metadata": {},
   "source": [
    "### Read CSV File"
   ]
  },
  {
   "cell_type": "code",
   "execution_count": 8,
   "metadata": {},
   "outputs": [
    {
     "data": {
      "text/html": [
       "<div>\n",
       "<style scoped>\n",
       "    .dataframe tbody tr th:only-of-type {\n",
       "        vertical-align: middle;\n",
       "    }\n",
       "\n",
       "    .dataframe tbody tr th {\n",
       "        vertical-align: top;\n",
       "    }\n",
       "\n",
       "    .dataframe thead th {\n",
       "        text-align: right;\n",
       "    }\n",
       "</style>\n",
       "<table border=\"1\" class=\"dataframe\">\n",
       "  <thead>\n",
       "    <tr style=\"text-align: right;\">\n",
       "      <th></th>\n",
       "      <th>brand</th>\n",
       "      <th>model</th>\n",
       "      <th>power</th>\n",
       "      <th>price</th>\n",
       "    </tr>\n",
       "  </thead>\n",
       "  <tbody>\n",
       "    <tr>\n",
       "      <th>SU</th>\n",
       "      <td>Subaru</td>\n",
       "      <td>Forester</td>\n",
       "      <td>200</td>\n",
       "      <td>10000</td>\n",
       "    </tr>\n",
       "    <tr>\n",
       "      <th>MI</th>\n",
       "      <td>Mitsubishi</td>\n",
       "      <td>Lancher Evo</td>\n",
       "      <td>210</td>\n",
       "      <td>10500</td>\n",
       "    </tr>\n",
       "    <tr>\n",
       "      <th>DG</th>\n",
       "      <td>Dodge</td>\n",
       "      <td>Challenger</td>\n",
       "      <td>728</td>\n",
       "      <td>35700</td>\n",
       "    </tr>\n",
       "    <tr>\n",
       "      <th>CT</th>\n",
       "      <td>Chevrolet</td>\n",
       "      <td>Camaro SS</td>\n",
       "      <td>527</td>\n",
       "      <td>30000</td>\n",
       "    </tr>\n",
       "    <tr>\n",
       "      <th>FD</th>\n",
       "      <td>Ford</td>\n",
       "      <td>\"Mustang\"</td>\n",
       "      <td>630</td>\n",
       "      <td>33000</td>\n",
       "    </tr>\n",
       "  </tbody>\n",
       "</table>\n",
       "</div>"
      ],
      "text/plain": [
       "         brand        model  power  price\n",
       "SU      Subaru     Forester    200  10000\n",
       "MI  Mitsubishi  Lancher Evo    210  10500\n",
       "DG       Dodge   Challenger    728  35700\n",
       "CT   Chevrolet    Camaro SS    527  30000\n",
       "FD        Ford    \"Mustang\"    630  33000"
      ]
     },
     "execution_count": 8,
     "metadata": {},
     "output_type": "execute_result"
    }
   ],
   "source": [
    "cars = pd.read_csv('cars.csv', index_col=0)\n",
    "cars"
   ]
  },
  {
   "cell_type": "markdown",
   "metadata": {},
   "source": [
    "### Series"
   ]
  },
  {
   "cell_type": "code",
   "execution_count": 9,
   "metadata": {},
   "outputs": [
    {
     "name": "stdout",
     "output_type": "stream",
     "text": [
      "SU        Subaru\n",
      "MI    Mitsubishi\n",
      "DG         Dodge\n",
      "CT     Chevrolet\n",
      "FD          Ford\n",
      "Name: brand, dtype: object\n",
      "         brand\n",
      "SU      Subaru\n",
      "MI  Mitsubishi\n",
      "DG       Dodge\n",
      "CT   Chevrolet\n",
      "FD        Ford\n"
     ]
    }
   ],
   "source": [
    "pandas_series = cars[\"brand\"]\n",
    "pandas_dataframe = cars[[\"brand\"]]\n",
    "print(pandas_series)\n",
    "print(pandas_dataframe)"
   ]
  },
  {
   "cell_type": "markdown",
   "metadata": {},
   "source": [
    "### Accesing Data in a DataFrame"
   ]
  },
  {
   "cell_type": "code",
   "execution_count": 10,
   "metadata": {},
   "outputs": [
    {
     "data": {
      "text/html": [
       "<div>\n",
       "<style scoped>\n",
       "    .dataframe tbody tr th:only-of-type {\n",
       "        vertical-align: middle;\n",
       "    }\n",
       "\n",
       "    .dataframe tbody tr th {\n",
       "        vertical-align: top;\n",
       "    }\n",
       "\n",
       "    .dataframe thead th {\n",
       "        text-align: right;\n",
       "    }\n",
       "</style>\n",
       "<table border=\"1\" class=\"dataframe\">\n",
       "  <thead>\n",
       "    <tr style=\"text-align: right;\">\n",
       "      <th></th>\n",
       "      <th>brand</th>\n",
       "      <th>price</th>\n",
       "    </tr>\n",
       "  </thead>\n",
       "  <tbody>\n",
       "    <tr>\n",
       "      <th>SU</th>\n",
       "      <td>Subaru</td>\n",
       "      <td>10000</td>\n",
       "    </tr>\n",
       "    <tr>\n",
       "      <th>MI</th>\n",
       "      <td>Mitsubishi</td>\n",
       "      <td>10500</td>\n",
       "    </tr>\n",
       "    <tr>\n",
       "      <th>DG</th>\n",
       "      <td>Dodge</td>\n",
       "      <td>35700</td>\n",
       "    </tr>\n",
       "    <tr>\n",
       "      <th>CT</th>\n",
       "      <td>Chevrolet</td>\n",
       "      <td>30000</td>\n",
       "    </tr>\n",
       "    <tr>\n",
       "      <th>FD</th>\n",
       "      <td>Ford</td>\n",
       "      <td>33000</td>\n",
       "    </tr>\n",
       "  </tbody>\n",
       "</table>\n",
       "</div>"
      ],
      "text/plain": [
       "         brand  price\n",
       "SU      Subaru  10000\n",
       "MI  Mitsubishi  10500\n",
       "DG       Dodge  35700\n",
       "CT   Chevrolet  30000\n",
       "FD        Ford  33000"
      ]
     },
     "execution_count": 10,
     "metadata": {},
     "output_type": "execute_result"
    }
   ],
   "source": [
    "brand_price = cars[[\"brand\", \"price\"]]\n",
    "brand_price"
   ]
  },
  {
   "cell_type": "code",
   "execution_count": 11,
   "metadata": {},
   "outputs": [
    {
     "data": {
      "text/html": [
       "<div>\n",
       "<style scoped>\n",
       "    .dataframe tbody tr th:only-of-type {\n",
       "        vertical-align: middle;\n",
       "    }\n",
       "\n",
       "    .dataframe tbody tr th {\n",
       "        vertical-align: top;\n",
       "    }\n",
       "\n",
       "    .dataframe thead th {\n",
       "        text-align: right;\n",
       "    }\n",
       "</style>\n",
       "<table border=\"1\" class=\"dataframe\">\n",
       "  <thead>\n",
       "    <tr style=\"text-align: right;\">\n",
       "      <th></th>\n",
       "      <th>brand</th>\n",
       "      <th>model</th>\n",
       "      <th>power</th>\n",
       "      <th>price</th>\n",
       "    </tr>\n",
       "  </thead>\n",
       "  <tbody>\n",
       "    <tr>\n",
       "      <th>MI</th>\n",
       "      <td>Mitsubishi</td>\n",
       "      <td>Lancher Evo</td>\n",
       "      <td>210</td>\n",
       "      <td>10500</td>\n",
       "    </tr>\n",
       "    <tr>\n",
       "      <th>DG</th>\n",
       "      <td>Dodge</td>\n",
       "      <td>Challenger</td>\n",
       "      <td>728</td>\n",
       "      <td>35700</td>\n",
       "    </tr>\n",
       "    <tr>\n",
       "      <th>CT</th>\n",
       "      <td>Chevrolet</td>\n",
       "      <td>Camaro SS</td>\n",
       "      <td>527</td>\n",
       "      <td>30000</td>\n",
       "    </tr>\n",
       "  </tbody>\n",
       "</table>\n",
       "</div>"
      ],
      "text/plain": [
       "         brand        model  power  price\n",
       "MI  Mitsubishi  Lancher Evo    210  10500\n",
       "DG       Dodge   Challenger    728  35700\n",
       "CT   Chevrolet    Camaro SS    527  30000"
      ]
     },
     "execution_count": 11,
     "metadata": {},
     "output_type": "execute_result"
    }
   ],
   "source": [
    "cars[1:4]"
   ]
  },
  {
   "cell_type": "code",
   "execution_count": 12,
   "metadata": {},
   "outputs": [
    {
     "name": "stdout",
     "output_type": "stream",
     "text": [
      "brand         Dodge\n",
      "model    Challenger\n",
      "power           728\n",
      "price         35700\n",
      "Name: DG, dtype: object\n",
      "---------------\n",
      "        brand  price\n",
      "FD       Ford  33000\n",
      "CT  Chevrolet  30000\n",
      "SU     Subaru  10000\n",
      "---------------\n",
      "         brand  price\n",
      "SU      Subaru  10000\n",
      "MI  Mitsubishi  10500\n",
      "DG       Dodge  35700\n",
      "CT   Chevrolet  30000\n",
      "FD        Ford  33000\n"
     ]
    }
   ],
   "source": [
    "# loc: label based \n",
    "print(cars.loc[\"DG\"])\n",
    "print(\"---------------\")\n",
    "print(cars.loc[[\"FD\", \"CT\", \"SU\"], [\"brand\", \"price\"]])\n",
    "print(\"---------------\")\n",
    "print(cars.loc[:, [\"brand\", \"price\"]])"
   ]
  },
  {
   "cell_type": "code",
   "execution_count": 13,
   "metadata": {},
   "outputs": [
    {
     "name": "stdout",
     "output_type": "stream",
     "text": [
      "brand     Mitsubishi\n",
      "model    Lancher Evo\n",
      "power            210\n",
      "price          10500\n",
      "Name: MI, dtype: object\n",
      "---------------\n",
      "          model  power\n",
      "MI  Lancher Evo    210\n",
      "DG   Challenger    728\n",
      "CT    Camaro SS    527\n",
      "---------------\n",
      "          model  power\n",
      "SU     Forester    200\n",
      "MI  Lancher Evo    210\n",
      "DG   Challenger    728\n",
      "CT    Camaro SS    527\n",
      "FD    \"Mustang\"    630\n"
     ]
    }
   ],
   "source": [
    "# iloc: integer-position based\n",
    "print(cars.iloc[1])\n",
    "print(\"---------------\")\n",
    "print(cars.iloc[[1, 2, 3], [1, 2]])\n",
    "print(\"---------------\")\n",
    "print(cars.iloc[:, [1, 2]])"
   ]
  },
  {
   "cell_type": "markdown",
   "metadata": {},
   "source": [
    "### Head & Tail"
   ]
  },
  {
   "cell_type": "code",
   "execution_count": 23,
   "metadata": {},
   "outputs": [
    {
     "name": "stdout",
     "output_type": "stream",
     "text": [
      "         brand        model  power  price\n",
      "SU      Subaru     Forester    200  10000\n",
      "MI  Mitsubishi  Lancher Evo    210  10500\n",
      "DG       Dodge   Challenger    728  35700\n",
      "CT   Chevrolet    Camaro SS    527  30000\n",
      "FD        Ford    \"Mustang\"    630  33000\n",
      "----------------------------------------------\n",
      "         brand        model  power  price\n",
      "SU      Subaru     Forester    200  10000\n",
      "MI  Mitsubishi  Lancher Evo    210  10500\n",
      "DG       Dodge   Challenger    728  35700\n",
      "CT   Chevrolet    Camaro SS    527  30000\n",
      "FD        Ford    \"Mustang\"    630  33000\n"
     ]
    }
   ],
   "source": [
    "print(cars.head()) # prints first 5 row\n",
    "print(\"----------------------------------------------\")\n",
    "print(cars.tail()) # prints last 5 row"
   ]
  },
  {
   "cell_type": "markdown",
   "metadata": {},
   "source": [
    "### Pandas Memory Usage"
   ]
  },
  {
   "cell_type": "code",
   "execution_count": 27,
   "metadata": {},
   "outputs": [
    {
     "name": "stdout",
     "output_type": "stream",
     "text": [
      "Memory usage of dataframe: 1199 Bytes\n",
      "Memory usage of dataframe: 0.00 MB\n"
     ]
    }
   ],
   "source": [
    "memory_usage_bytes = cars.memory_usage(deep=True).sum()\n",
    "memory_usage_mb = memory_usage_bytes / (1024 ** 2)\n",
    "\n",
    "print(f\"Memory usage of dataframe: {memory_usage_bytes} Bytes\")\n",
    "print(f\"Memory usage of dataframe: {memory_usage_mb:.2f} MB\")"
   ]
  },
  {
   "cell_type": "markdown",
   "metadata": {},
   "source": [
    "## Filtering Data"
   ]
  },
  {
   "cell_type": "markdown",
   "metadata": {},
   "source": [
    "### Creating Example Data"
   ]
  },
  {
   "cell_type": "code",
   "execution_count": 15,
   "metadata": {},
   "outputs": [
    {
     "data": {
      "text/html": [
       "<div>\n",
       "<style scoped>\n",
       "    .dataframe tbody tr th:only-of-type {\n",
       "        vertical-align: middle;\n",
       "    }\n",
       "\n",
       "    .dataframe tbody tr th {\n",
       "        vertical-align: top;\n",
       "    }\n",
       "\n",
       "    .dataframe thead th {\n",
       "        text-align: right;\n",
       "    }\n",
       "</style>\n",
       "<table border=\"1\" class=\"dataframe\">\n",
       "  <thead>\n",
       "    <tr style=\"text-align: right;\">\n",
       "      <th></th>\n",
       "      <th>country</th>\n",
       "      <th>age</th>\n",
       "      <th>height</th>\n",
       "      <th>weight</th>\n",
       "    </tr>\n",
       "  </thead>\n",
       "  <tbody>\n",
       "    <tr>\n",
       "      <th>US</th>\n",
       "      <td>USA</td>\n",
       "      <td>26</td>\n",
       "      <td>1.29</td>\n",
       "      <td>60.13</td>\n",
       "    </tr>\n",
       "    <tr>\n",
       "      <th>RU</th>\n",
       "      <td>RUSSIA</td>\n",
       "      <td>25</td>\n",
       "      <td>1.62</td>\n",
       "      <td>52.99</td>\n",
       "    </tr>\n",
       "    <tr>\n",
       "      <th>JP</th>\n",
       "      <td>JAPAN</td>\n",
       "      <td>22</td>\n",
       "      <td>1.81</td>\n",
       "      <td>17.29</td>\n",
       "    </tr>\n",
       "    <tr>\n",
       "      <th>TR</th>\n",
       "      <td>TURKEY</td>\n",
       "      <td>16</td>\n",
       "      <td>1.40</td>\n",
       "      <td>75.17</td>\n",
       "    </tr>\n",
       "    <tr>\n",
       "      <th>GE</th>\n",
       "      <td>GERMANY</td>\n",
       "      <td>24</td>\n",
       "      <td>1.97</td>\n",
       "      <td>47.81</td>\n",
       "    </tr>\n",
       "  </tbody>\n",
       "</table>\n",
       "</div>"
      ],
      "text/plain": [
       "    country  age height weight\n",
       "US      USA   26   1.29  60.13\n",
       "RU   RUSSIA   25   1.62  52.99\n",
       "JP    JAPAN   22   1.81  17.29\n",
       "TR   TURKEY   16   1.40  75.17\n",
       "GE  GERMANY   24   1.97  47.81"
      ]
     },
     "execution_count": 15,
     "metadata": {},
     "output_type": "execute_result"
    }
   ],
   "source": [
    "import numpy as np\n",
    "\n",
    "height_np = [format(num, '.2f') for num in np.random.normal(1.70, 0.3, 5)]\n",
    "weight_np = [format(num, '.2f') for num in np.random.normal(60, 20, 5)]\n",
    "age_np = np.random.normal(23, 5, 5).astype(int)\n",
    "countries = ['USA', 'RUSSIA', 'JAPAN', 'TURKEY', 'GERMANY']\n",
    "country_labels = ['US', 'RU', 'JP', 'TR', 'GE']\n",
    "\n",
    "country_averages = pd.DataFrame({\n",
    "    'country': countries,\n",
    "    'age': age_np,\n",
    "    'height': height_np,\n",
    "    'weight': weight_np\n",
    "}, index=[country_labels])\n",
    "\n",
    "country_averages"
   ]
  },
  {
   "cell_type": "markdown",
   "metadata": {},
   "source": [
    "### Filtering"
   ]
  },
  {
   "cell_type": "code",
   "execution_count": 16,
   "metadata": {},
   "outputs": [
    {
     "data": {
      "text/html": [
       "<div>\n",
       "<style scoped>\n",
       "    .dataframe tbody tr th:only-of-type {\n",
       "        vertical-align: middle;\n",
       "    }\n",
       "\n",
       "    .dataframe tbody tr th {\n",
       "        vertical-align: top;\n",
       "    }\n",
       "\n",
       "    .dataframe thead th {\n",
       "        text-align: right;\n",
       "    }\n",
       "</style>\n",
       "<table border=\"1\" class=\"dataframe\">\n",
       "  <thead>\n",
       "    <tr style=\"text-align: right;\">\n",
       "      <th></th>\n",
       "      <th>country</th>\n",
       "      <th>age</th>\n",
       "      <th>height</th>\n",
       "      <th>weight</th>\n",
       "    </tr>\n",
       "  </thead>\n",
       "  <tbody>\n",
       "    <tr>\n",
       "      <th>RU</th>\n",
       "      <td>RUSSIA</td>\n",
       "      <td>25</td>\n",
       "      <td>1.62</td>\n",
       "      <td>52.99</td>\n",
       "    </tr>\n",
       "    <tr>\n",
       "      <th>JP</th>\n",
       "      <td>JAPAN</td>\n",
       "      <td>22</td>\n",
       "      <td>1.81</td>\n",
       "      <td>17.29</td>\n",
       "    </tr>\n",
       "    <tr>\n",
       "      <th>GE</th>\n",
       "      <td>GERMANY</td>\n",
       "      <td>24</td>\n",
       "      <td>1.97</td>\n",
       "      <td>47.81</td>\n",
       "    </tr>\n",
       "  </tbody>\n",
       "</table>\n",
       "</div>"
      ],
      "text/plain": [
       "    country  age height weight\n",
       "RU   RUSSIA   25   1.62  52.99\n",
       "JP    JAPAN   22   1.81  17.29\n",
       "GE  GERMANY   24   1.97  47.81"
      ]
     },
     "execution_count": 16,
     "metadata": {},
     "output_type": "execute_result"
    }
   ],
   "source": [
    "selected_data = np.logical_and(country_averages['age'] >= 18, country_averages['age'] <= 25)\n",
    "country_averages[selected_data]"
   ]
  },
  {
   "cell_type": "markdown",
   "metadata": {},
   "source": [
    "### Loop Pandas DataFrame"
   ]
  },
  {
   "cell_type": "code",
   "execution_count": 17,
   "metadata": {},
   "outputs": [
    {
     "name": "stdout",
     "output_type": "stream",
     "text": [
      "country\n",
      "age\n",
      "height\n",
      "weight\n"
     ]
    }
   ],
   "source": [
    "for i in country_averages:\n",
    "    print(i)"
   ]
  },
  {
   "cell_type": "markdown",
   "metadata": {},
   "source": [
    "### Iterrows"
   ]
  },
  {
   "cell_type": "code",
   "execution_count": 18,
   "metadata": {},
   "outputs": [
    {
     "name": "stdout",
     "output_type": "stream",
     "text": [
      "('US',)\n",
      "country      USA\n",
      "age           26\n",
      "height      1.29\n",
      "weight     60.13\n",
      "Name: (US,), dtype: object\n",
      "('RU',)\n",
      "country    RUSSIA\n",
      "age            25\n",
      "height       1.62\n",
      "weight      52.99\n",
      "Name: (RU,), dtype: object\n",
      "('JP',)\n",
      "country    JAPAN\n",
      "age           22\n",
      "height      1.81\n",
      "weight     17.29\n",
      "Name: (JP,), dtype: object\n",
      "('TR',)\n",
      "country    TURKEY\n",
      "age            16\n",
      "height       1.40\n",
      "weight      75.17\n",
      "Name: (TR,), dtype: object\n",
      "('GE',)\n",
      "country    GERMANY\n",
      "age             24\n",
      "height        1.97\n",
      "weight       47.81\n",
      "Name: (GE,), dtype: object\n"
     ]
    }
   ],
   "source": [
    "for lab, row in country_averages.iterrows():\n",
    "    print(lab)\n",
    "    print(row)"
   ]
  },
  {
   "cell_type": "markdown",
   "metadata": {},
   "source": [
    "#### Selected Data"
   ]
  },
  {
   "cell_type": "code",
   "execution_count": 19,
   "metadata": {},
   "outputs": [
    {
     "name": "stdout",
     "output_type": "stream",
     "text": [
      "US: 1.29\n",
      "RU: 1.62\n",
      "JP: 1.81\n",
      "TR: 1.40\n",
      "GE: 1.97\n"
     ]
    }
   ],
   "source": [
    "for lab, row in country_averages.iterrows():\n",
    "    print(lab[0] + \": \" + row[\"height\"])"
   ]
  },
  {
   "cell_type": "markdown",
   "metadata": {},
   "source": [
    "#### Add Column"
   ]
  },
  {
   "cell_type": "code",
   "execution_count": 20,
   "metadata": {},
   "outputs": [
    {
     "data": {
      "text/html": [
       "<div>\n",
       "<style scoped>\n",
       "    .dataframe tbody tr th:only-of-type {\n",
       "        vertical-align: middle;\n",
       "    }\n",
       "\n",
       "    .dataframe tbody tr th {\n",
       "        vertical-align: top;\n",
       "    }\n",
       "\n",
       "    .dataframe thead th {\n",
       "        text-align: right;\n",
       "    }\n",
       "</style>\n",
       "<table border=\"1\" class=\"dataframe\">\n",
       "  <thead>\n",
       "    <tr style=\"text-align: right;\">\n",
       "      <th></th>\n",
       "      <th>country</th>\n",
       "      <th>age</th>\n",
       "      <th>height</th>\n",
       "      <th>weight</th>\n",
       "      <th>name_length</th>\n",
       "    </tr>\n",
       "  </thead>\n",
       "  <tbody>\n",
       "    <tr>\n",
       "      <th>US</th>\n",
       "      <td>USA</td>\n",
       "      <td>26</td>\n",
       "      <td>1.29</td>\n",
       "      <td>60.13</td>\n",
       "      <td>3.0</td>\n",
       "    </tr>\n",
       "    <tr>\n",
       "      <th>RU</th>\n",
       "      <td>RUSSIA</td>\n",
       "      <td>25</td>\n",
       "      <td>1.62</td>\n",
       "      <td>52.99</td>\n",
       "      <td>6.0</td>\n",
       "    </tr>\n",
       "    <tr>\n",
       "      <th>JP</th>\n",
       "      <td>JAPAN</td>\n",
       "      <td>22</td>\n",
       "      <td>1.81</td>\n",
       "      <td>17.29</td>\n",
       "      <td>5.0</td>\n",
       "    </tr>\n",
       "    <tr>\n",
       "      <th>TR</th>\n",
       "      <td>TURKEY</td>\n",
       "      <td>16</td>\n",
       "      <td>1.40</td>\n",
       "      <td>75.17</td>\n",
       "      <td>6.0</td>\n",
       "    </tr>\n",
       "    <tr>\n",
       "      <th>GE</th>\n",
       "      <td>GERMANY</td>\n",
       "      <td>24</td>\n",
       "      <td>1.97</td>\n",
       "      <td>47.81</td>\n",
       "      <td>7.0</td>\n",
       "    </tr>\n",
       "  </tbody>\n",
       "</table>\n",
       "</div>"
      ],
      "text/plain": [
       "    country  age height weight  name_length\n",
       "US      USA   26   1.29  60.13          3.0\n",
       "RU   RUSSIA   25   1.62  52.99          6.0\n",
       "JP    JAPAN   22   1.81  17.29          5.0\n",
       "TR   TURKEY   16   1.40  75.17          6.0\n",
       "GE  GERMANY   24   1.97  47.81          7.0"
      ]
     },
     "execution_count": 20,
     "metadata": {},
     "output_type": "execute_result"
    }
   ],
   "source": [
    "for lab, row in country_averages.iterrows():\n",
    "    country_averages.loc[lab, \"name_length\"] = len(row[\"country\"])\n",
    "\n",
    "country_averages"
   ]
  },
  {
   "cell_type": "markdown",
   "metadata": {},
   "source": [
    "#### Apply"
   ]
  },
  {
   "cell_type": "code",
   "execution_count": 21,
   "metadata": {},
   "outputs": [
    {
     "data": {
      "text/html": [
       "<div>\n",
       "<style scoped>\n",
       "    .dataframe tbody tr th:only-of-type {\n",
       "        vertical-align: middle;\n",
       "    }\n",
       "\n",
       "    .dataframe tbody tr th {\n",
       "        vertical-align: top;\n",
       "    }\n",
       "\n",
       "    .dataframe thead th {\n",
       "        text-align: right;\n",
       "    }\n",
       "</style>\n",
       "<table border=\"1\" class=\"dataframe\">\n",
       "  <thead>\n",
       "    <tr style=\"text-align: right;\">\n",
       "      <th></th>\n",
       "      <th>country</th>\n",
       "      <th>age</th>\n",
       "      <th>height</th>\n",
       "      <th>weight</th>\n",
       "      <th>name_length</th>\n",
       "    </tr>\n",
       "  </thead>\n",
       "  <tbody>\n",
       "    <tr>\n",
       "      <th>US</th>\n",
       "      <td>USA</td>\n",
       "      <td>26</td>\n",
       "      <td>1.29</td>\n",
       "      <td>60.13</td>\n",
       "      <td>3</td>\n",
       "    </tr>\n",
       "    <tr>\n",
       "      <th>RU</th>\n",
       "      <td>RUSSIA</td>\n",
       "      <td>25</td>\n",
       "      <td>1.62</td>\n",
       "      <td>52.99</td>\n",
       "      <td>6</td>\n",
       "    </tr>\n",
       "    <tr>\n",
       "      <th>JP</th>\n",
       "      <td>JAPAN</td>\n",
       "      <td>22</td>\n",
       "      <td>1.81</td>\n",
       "      <td>17.29</td>\n",
       "      <td>5</td>\n",
       "    </tr>\n",
       "    <tr>\n",
       "      <th>TR</th>\n",
       "      <td>TURKEY</td>\n",
       "      <td>16</td>\n",
       "      <td>1.40</td>\n",
       "      <td>75.17</td>\n",
       "      <td>6</td>\n",
       "    </tr>\n",
       "    <tr>\n",
       "      <th>GE</th>\n",
       "      <td>GERMANY</td>\n",
       "      <td>24</td>\n",
       "      <td>1.97</td>\n",
       "      <td>47.81</td>\n",
       "      <td>7</td>\n",
       "    </tr>\n",
       "  </tbody>\n",
       "</table>\n",
       "</div>"
      ],
      "text/plain": [
       "    country  age height weight  name_length\n",
       "US      USA   26   1.29  60.13            3\n",
       "RU   RUSSIA   25   1.62  52.99            6\n",
       "JP    JAPAN   22   1.81  17.29            5\n",
       "TR   TURKEY   16   1.40  75.17            6\n",
       "GE  GERMANY   24   1.97  47.81            7"
      ]
     },
     "execution_count": 21,
     "metadata": {},
     "output_type": "execute_result"
    }
   ],
   "source": [
    "country_averages[\"name_length\"] = country_averages[\"country\"].apply(len)\n",
    "country_averages"
   ]
  },
  {
   "cell_type": "markdown",
   "metadata": {},
   "source": [
    "# Additional Notes\n",
    "\n",
    "In this section, i save notes about pandas have not in main course."
   ]
  },
  {
   "cell_type": "markdown",
   "metadata": {},
   "source": [
    "### And, Or\n",
    "\n",
    "You can use numpy logical_and/or too"
   ]
  },
  {
   "cell_type": "code",
   "execution_count": null,
   "metadata": {},
   "outputs": [],
   "source": [
    "netflix_df = pd.DataFrame([])\n",
    "movies1990_1999 = netflix_df[\n",
    "    (netflix_df[\"release_year\"] >= 1990) \n",
    "    & (netflix_df[\"release_year\"] <= 1999)\n",
    "]"
   ]
  }
 ],
 "metadata": {
  "kernelspec": {
   "display_name": "Python 3",
   "language": "python",
   "name": "python3"
  },
  "language_info": {
   "codemirror_mode": {
    "name": "ipython",
    "version": 3
   },
   "file_extension": ".py",
   "mimetype": "text/x-python",
   "name": "python",
   "nbconvert_exporter": "python",
   "pygments_lexer": "ipython3",
   "version": "3.11.5"
  },
  "orig_nbformat": 4
 },
 "nbformat": 4,
 "nbformat_minor": 2
}
